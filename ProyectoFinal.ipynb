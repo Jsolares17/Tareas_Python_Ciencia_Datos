{
 "cells": [
  {
   "cell_type": "code",
   "execution_count": 3,
   "id": "electoral-appreciation",
   "metadata": {},
   "outputs": [],
   "source": [
    "import numpy as np\n",
    "import seaborn as sb\n",
    "import matplotlib.pyplot as plt"
   ]
  },
  {
   "cell_type": "code",
   "execution_count": 4,
   "id": "colored-forty",
   "metadata": {},
   "outputs": [],
   "source": [
    "casas =np.load('D:/UG/PythonForDataScience/Proyecto Final/proyecto_training_data.npy')"
   ]
  },
  {
   "cell_type": "code",
   "execution_count": 5,
   "id": "surprising-shannon",
   "metadata": {},
   "outputs": [],
   "source": [
    "#Separar los datasets\n",
    "datos_entrenamiento = casas[:int(len(casas)*0.80)] \n",
    "datos_pruebas = casas[int(len(casas)*0.80):]"
   ]
  },
  {
   "cell_type": "markdown",
   "id": "recorded-vacuum",
   "metadata": {},
   "source": [
    "**Analisis Exploratorio**"
   ]
  },
  {
   "cell_type": "code",
   "execution_count": 6,
   "id": "macro-venue",
   "metadata": {},
   "outputs": [
    {
     "name": "stdout",
     "output_type": "stream",
     "text": [
      "162950.0 6.0 1086.0 6.0 1973.0 70.0\n"
     ]
    }
   ],
   "source": [
    "#Calcular Media para cada variable\n",
    "SalePriceMedia = np.median( datos_entrenamiento[:,0])\n",
    "OverallQualMedia = np.median( datos_entrenamiento[:,1])\n",
    "stFlrSFMedia = np.median( datos_entrenamiento[:,2])\n",
    "TotRmsAbvGrdMedia = np.median( datos_entrenamiento[:,3])\n",
    "YearBuiltMedia = np.median( datos_entrenamiento[:,4])\n",
    "LotFrontageMedia = np.nanmedian( datos_entrenamiento[:,5])\n",
    "print(SalePriceMedia,OverallQualMedia,stFlrSFMedia,TotRmsAbvGrdMedia,YearBuiltMedia,LotFrontageMedia)"
   ]
  },
  {
   "cell_type": "code",
   "execution_count": 7,
   "id": "favorite-devices",
   "metadata": {},
   "outputs": [
    {
     "name": "stdout",
     "output_type": "stream",
     "text": [
      "755000.0 10.0 3228.0 14.0 2010.0 313.0\n"
     ]
    }
   ],
   "source": [
    "#Calcular Valor Maximo para cada variable\n",
    "SalePriceMax = datos_entrenamiento[np.argmax(datos_entrenamiento[:,0])][0]\n",
    "OverallQualMax = datos_entrenamiento[np.argmax(datos_entrenamiento[:,1])][1]\n",
    "stFlrSFMax = datos_entrenamiento[np.argmax(datos_entrenamiento[:,2])][2]\n",
    "TotRmsAbvGrdMax = datos_entrenamiento[np.argmax(datos_entrenamiento[:,3])][3]\n",
    "YearBuiltMax = datos_entrenamiento[np.argmax(datos_entrenamiento[:,4])][4]\n",
    "LotFrontageMax = datos_entrenamiento[np.nanargmax(datos_entrenamiento[:,5])][5]\n",
    "print(SalePriceMax,OverallQualMax,stFlrSFMax,TotRmsAbvGrdMax,YearBuiltMax,LotFrontageMax)"
   ]
  },
  {
   "cell_type": "code",
   "execution_count": 8,
   "id": "indonesian-questionnaire",
   "metadata": {},
   "outputs": [
    {
     "name": "stdout",
     "output_type": "stream",
     "text": [
      "34900.0 1.0 334.0 2.0 1875.0 21.0\n"
     ]
    }
   ],
   "source": [
    "#Calcular Valor Minimo para cada variable\n",
    "SalePriceMin = datos_entrenamiento[np.argmin(datos_entrenamiento[:,0])][0]\n",
    "OverallQualMin = datos_entrenamiento[np.argmin(datos_entrenamiento[:,1])][1]\n",
    "stFlrSFMin = datos_entrenamiento[np.argmin(datos_entrenamiento[:,2])][2]\n",
    "TotRmsAbvGrdMin = datos_entrenamiento[np.argmin(datos_entrenamiento[:,3])][3]\n",
    "YearBuiltMin = datos_entrenamiento[np.argmin(datos_entrenamiento[:,4])][4]\n",
    "LotFrontageMin = datos_entrenamiento[np.nanargmin(datos_entrenamiento[:,5])][5]\n",
    "\n",
    "print(SalePriceMin,OverallQualMin,stFlrSFMin,TotRmsAbvGrdMin,YearBuiltMin,LotFrontageMin)"
   ]
  },
  {
   "cell_type": "code",
   "execution_count": 9,
   "id": "premium-ranch",
   "metadata": {},
   "outputs": [
    {
     "name": "stdout",
     "output_type": "stream",
     "text": [
      "78781.95108033362 1.377435193240741 373.620331503586 1.6084517167387253 29.93888206867768 23.4659548199304\n"
     ]
    }
   ],
   "source": [
    "#Calcular Desviación estándar\n",
    "SalePriceStd = np.std(datos_entrenamiento[:,0])\n",
    "OverallQualStd = np.std( datos_entrenamiento[:,1])\n",
    "stFlrSFStd = np.std( datos_entrenamiento[:,2])\n",
    "TotRmsAbvGrdStd = np.std( datos_entrenamiento[:,3])\n",
    "YearBuiltStd = np.std( datos_entrenamiento[:,4])\n",
    "LotFrontageStd = np.nanstd( datos_entrenamiento[:,5])\n",
    "print(SalePriceStd,OverallQualStd,stFlrSFStd,TotRmsAbvGrdStd,YearBuiltStd,LotFrontageStd)"
   ]
  },
  {
   "cell_type": "code",
   "execution_count": 10,
   "id": "honest-empty",
   "metadata": {},
   "outputs": [
    {
     "data": {
      "text/plain": [
       "<seaborn.axisgrid.FacetGrid at 0x288c2db5eb0>"
      ]
     },
     "execution_count": 10,
     "metadata": {},
     "output_type": "execute_result"
    },
    {
     "data": {
      "image/png": "[encoded data removed]",
      "text/plain": [
       "<Figure size 360x360 with 1 Axes>"
      ]
     },
     "metadata": {
      "needs_background": "light"
     },
     "output_type": "display_data"
    }
   ],
   "source": [
    "#Histograma para SalePrice\n",
    "sb.displot(datos_entrenamiento[:,0])"
   ]
  },
  {
   "cell_type": "code",
   "execution_count": 11,
   "id": "earned-celebrity",
   "metadata": {},
   "outputs": [
    {
     "data": {
      "text/plain": [
       "<seaborn.axisgrid.FacetGrid at 0x288c31768b0>"
      ]
     },
     "execution_count": 11,
     "metadata": {},
     "output_type": "execute_result"
    },
    {
     "data": {
      "image/png": "[encoded data removed]",
      "text/plain": [
       "<Figure size 360x360 with 1 Axes>"
      ]
     },
     "metadata": {
      "needs_background": "light"
     },
     "output_type": "display_data"
    }
   ],
   "source": [
    "#Histograma para OverallQual\n",
    "sb.displot(datos_entrenamiento[:,1])"
   ]
  },
  {
   "cell_type": "code",
   "execution_count": 12,
   "id": "occasional-curtis",
   "metadata": {},
   "outputs": [
    {
     "data": {
      "text/plain": [
       "<seaborn.axisgrid.FacetGrid at 0x288c41c7670>"
      ]
     },
     "execution_count": 12,
     "metadata": {},
     "output_type": "execute_result"
    },
    {
     "data": {
      "image/png": "[encoded data removed]",
      "text/plain": [
       "<Figure size 360x360 with 1 Axes>"
      ]
     },
     "metadata": {
      "needs_background": "light"
     },
     "output_type": "display_data"
    }
   ],
   "source": [
    "#Histograma para 1stFlrSF\n",
    "sb.displot(datos_entrenamiento[:,2])"
   ]
  },
  {
   "cell_type": "code",
   "execution_count": 13,
   "id": "stone-cream",
   "metadata": {},
   "outputs": [
    {
     "data": {
      "text/plain": [
       "<seaborn.axisgrid.FacetGrid at 0x288c41c7e80>"
      ]
     },
     "execution_count": 13,
     "metadata": {},
     "output_type": "execute_result"
    },
    {
     "data": {
      "image/png": "[encoded data removed]",
      "text/plain": [
       "<Figure size 360x360 with 1 Axes>"
      ]
     },
     "metadata": {
      "needs_background": "light"
     },
     "output_type": "display_data"
    }
   ],
   "source": [
    "#Histograma para TotRmsAbvGrd\n",
    "sb.displot(datos_entrenamiento[:,3])"
   ]
  },
  {
   "cell_type": "code",
   "execution_count": 14,
   "id": "dated-privilege",
   "metadata": {},
   "outputs": [
    {
     "data": {
      "text/plain": [
       "<seaborn.axisgrid.FacetGrid at 0x288c42eed00>"
      ]
     },
     "execution_count": 14,
     "metadata": {},
     "output_type": "execute_result"
    },
    {
     "data": {
      "image/png": "[encoded data removed]",
      "text/plain": [
       "<Figure size 360x360 with 1 Axes>"
      ]
     },
     "metadata": {
      "needs_background": "light"
     },
     "output_type": "display_data"
    }
   ],
   "source": [
    "#Histograma para YearBuilt\n",
    "sb.displot(datos_entrenamiento[:,4])"
   ]
  },
  {
   "cell_type": "code",
   "execution_count": 15,
   "id": "fabulous-orlando",
   "metadata": {},
   "outputs": [
    {
     "data": {
      "text/plain": [
       "<seaborn.axisgrid.FacetGrid at 0x288c4449790>"
      ]
     },
     "execution_count": 15,
     "metadata": {},
     "output_type": "execute_result"
    },
    {
     "data": {
      "image/png": "[encoded data removed]",
      "text/plain": [
       "<Figure size 360x360 with 1 Axes>"
      ]
     },
     "metadata": {
      "needs_background": "light"
     },
     "output_type": "display_data"
    }
   ],
   "source": [
    "#Histograma para LotFrontage: \n",
    "sb.displot(datos_entrenamiento[:,5])"
   ]
  },
  {
   "cell_type": "code",
   "execution_count": 16,
   "id": "controversial-audio",
   "metadata": {},
   "outputs": [
    {
     "data": {
      "text/plain": [
       "0.7939900504626405"
      ]
     },
     "execution_count": 16,
     "metadata": {},
     "output_type": "execute_result"
    }
   ],
   "source": [
    "#Correlacion variable OverallQual\n",
    "CorrelacionOverallQual =  np.corrcoef(datos_entrenamiento[:,0],datos_entrenamiento[:,1])[0][1]\n",
    "CorrelacionOverallQual"
   ]
  },
  {
   "cell_type": "code",
   "execution_count": 17,
   "id": "directed-working",
   "metadata": {},
   "outputs": [
    {
     "data": {
      "text/plain": [
       "Text(0.5, 1.0, 'Correlación de OverallQual = 0.79399')"
      ]
     },
     "execution_count": 17,
     "metadata": {},
     "output_type": "execute_result"
    },
    {
     "data": {
      "image/png": "[encoded data removed]",
      "text/plain": [
       "<Figure size 432x288 with 1 Axes>"
      ]
     },
     "metadata": {
      "needs_background": "light"
     },
     "output_type": "display_data"
    }
   ],
   "source": [
    "#Correlacion variable OverallQual\n",
    "fig, ax =plt.subplots()\n",
    "ax.scatter(datos_entrenamiento[:,1],datos_entrenamiento[:,0])\n",
    "ax.set_title('Correlación de OverallQual = '+str(round(CorrelacionOverallQual,5)))"
   ]
  },
  {
   "cell_type": "code",
   "execution_count": 18,
   "id": "desirable-answer",
   "metadata": {},
   "outputs": [
    {
     "data": {
      "text/plain": [
       "0.6162887000998717"
      ]
     },
     "execution_count": 18,
     "metadata": {},
     "output_type": "execute_result"
    }
   ],
   "source": [
    "#Correlacion variable 1stFlrSF\n",
    "Correlacion1stFlrSF = np.corrcoef(datos_entrenamiento[:,0],datos_entrenamiento[:,2])[0][1]\n",
    "Correlacion1stFlrSF"
   ]
  },
  {
   "cell_type": "code",
   "execution_count": 19,
   "id": "herbal-johnson",
   "metadata": {},
   "outputs": [
    {
     "data": {
      "text/plain": [
       "Text(0.5, 1.0, 'Correlación de 1stFlrSF = 0.61629')"
      ]
     },
     "execution_count": 19,
     "metadata": {},
     "output_type": "execute_result"
    },
    {
     "data": {
      "image/png": "[encoded data removed]",
      "text/plain": [
       "<Figure size 432x288 with 1 Axes>"
      ]
     },
     "metadata": {
      "needs_background": "light"
     },
     "output_type": "display_data"
    }
   ],
   "source": [
    "#Correlacion variable 1stFlrSF\n",
    "fig, ax =plt.subplots()\n",
    "ax.scatter(datos_entrenamiento[:,2],datos_entrenamiento[:,0])\n",
    "ax.set_title('Correlación de 1stFlrSF = '+str(round(Correlacion1stFlrSF,5)))"
   ]
  },
  {
   "cell_type": "code",
   "execution_count": 20,
   "id": "positive-evanescence",
   "metadata": {},
   "outputs": [
    {
     "data": {
      "text/plain": [
       "0.5647069399593065"
      ]
     },
     "execution_count": 20,
     "metadata": {},
     "output_type": "execute_result"
    }
   ],
   "source": [
    "#Correlacion variable TotRmsAbvGrd\n",
    "np.corrcoef(datos_entrenamiento[:,0],datos_entrenamiento[:,3])[0][1]"
   ]
  },
  {
   "cell_type": "code",
   "execution_count": 21,
   "id": "related-vitamin",
   "metadata": {},
   "outputs": [
    {
     "data": {
      "text/plain": [
       "<matplotlib.collections.PathCollection at 0x288c4a62a60>"
      ]
     },
     "execution_count": 21,
     "metadata": {},
     "output_type": "execute_result"
    },
    {
     "data": {
      "image/png": "[encoded data removed]",
      "text/plain": [
       "<Figure size 432x288 with 1 Axes>"
      ]
     },
     "metadata": {
      "needs_background": "light"
     },
     "output_type": "display_data"
    }
   ],
   "source": [
    "#Correlacion variable TotRmsAbvGrd\n",
    "plt.scatter(datos_entrenamiento[:,3],datos_entrenamiento[:,0])"
   ]
  },
  {
   "cell_type": "code",
   "execution_count": 22,
   "id": "automated-touch",
   "metadata": {},
   "outputs": [
    {
     "data": {
      "text/plain": [
       "0.5341706927117515"
      ]
     },
     "execution_count": 22,
     "metadata": {},
     "output_type": "execute_result"
    }
   ],
   "source": [
    "#Correlacion variable YearBuilt: \n",
    "np.corrcoef(datos_entrenamiento[:,0],datos_entrenamiento[:,4])[0][1]"
   ]
  },
  {
   "cell_type": "code",
   "execution_count": 23,
   "id": "rocky-shift",
   "metadata": {},
   "outputs": [
    {
     "data": {
      "text/plain": [
       "<matplotlib.collections.PathCollection at 0x288c4ac4430>"
      ]
     },
     "execution_count": 23,
     "metadata": {},
     "output_type": "execute_result"
    },
    {
     "data": {
      "image/png": "[encoded data removed]",
      "text/plain": [
       "<Figure size 432x288 with 1 Axes>"
      ]
     },
     "metadata": {
      "needs_background": "light"
     },
     "output_type": "display_data"
    }
   ],
   "source": [
    "#Correlacion variable YearBuilt\n",
    "plt.scatter(datos_entrenamiento[:,4],datos_entrenamiento[:,0])"
   ]
  },
  {
   "cell_type": "code",
   "execution_count": 24,
   "id": "capital-lingerie",
   "metadata": {},
   "outputs": [
    {
     "data": {
      "text/plain": [
       "0.3485488112103933"
      ]
     },
     "execution_count": 24,
     "metadata": {},
     "output_type": "execute_result"
    }
   ],
   "source": [
    "#Correlacion variable LotFrontage: \n",
    "LotFrontage = datos_entrenamiento[:,5]\n",
    "LotFrontage[np.isnan(LotFrontage)]=LotFrontageMedia\n",
    "np.corrcoef(datos_entrenamiento[:,0],LotFrontage)[0][1]"
   ]
  },
  {
   "cell_type": "code",
   "execution_count": 25,
   "id": "preliminary-apache",
   "metadata": {},
   "outputs": [
    {
     "data": {
      "text/plain": [
       "<matplotlib.collections.PathCollection at 0x288c4b1c610>"
      ]
     },
     "execution_count": 25,
     "metadata": {},
     "output_type": "execute_result"
    },
    {
     "data": {
      "image/png": "[encoded data removed]",
      "text/plain": [
       "<Figure size 432x288 with 1 Axes>"
      ]
     },
     "metadata": {
      "needs_background": "light"
     },
     "output_type": "display_data"
    }
   ],
   "source": [
    "#Correlacion variable LotFrontage: \n",
    "plt.scatter(LotFrontage,datos_entrenamiento[:,0])"
   ]
  },
  {
   "cell_type": "markdown",
   "id": "impossible-stick",
   "metadata": {},
   "source": [
    "Las variables que tienen mayor correlación con **SalePrice** son ***OverallQual*** y ***1stFlrSf***"
   ]
  },
  {
   "cell_type": "markdown",
   "id": "given-capitol",
   "metadata": {},
   "source": [
    "# Función para entrenamiento de modelo"
   ]
  },
  {
   "cell_type": "code",
   "execution_count": 26,
   "id": "smoking-enlargement",
   "metadata": {},
   "outputs": [],
   "source": [
    "def entrenar(x):   #,y,epochs,imprimir_error_cada,lr):\n",
    "    datos= np.hstack((x,np.ones((len(x),1))))\n",
    "    \n",
    "    return datos\n",
    "    "
   ]
  },
  {
   "cell_type": "code",
   "execution_count": 27,
   "id": "jewish-millennium",
   "metadata": {},
   "outputs": [
    {
     "name": "stdout",
     "output_type": "stream",
     "text": [
      "[[208500. 181500. 223500. 140000. 250000.]] [[7. 6. 7. 7. 8.]]\n"
     ]
    },
    {
     "data": {
      "text/plain": [
       "array([[2.085e+05, 1.815e+05, 2.235e+05, 1.400e+05, 2.500e+05, 7.000e+00,\n",
       "        6.000e+00, 7.000e+00, 7.000e+00, 8.000e+00]])"
      ]
     },
     "execution_count": 27,
     "metadata": {},
     "output_type": "execute_result"
    }
   ],
   "source": [
    "x = np.array([datos_entrenamiento[:,0][0:5]])\n",
    "y = np.array([datos_entrenamiento[:,1][0:5]])\n",
    "print(x,y)\n",
    "datos =np.concatenate((x,y),axis=1)\n",
    "datos"
   ]
  },
  {
   "cell_type": "code",
   "execution_count": 30,
   "id": "cooked-jacob",
   "metadata": {},
   "outputs": [
    {
     "data": {
      "text/plain": [
       "array([[2.0850e+05, 7.0000e+00, 8.5600e+02, 8.0000e+00, 2.0030e+03,\n",
       "        6.5000e+01],\n",
       "       [1.8150e+05, 6.0000e+00, 1.2620e+03, 6.0000e+00, 1.9760e+03,\n",
       "        8.0000e+01],\n",
       "       [2.2350e+05, 7.0000e+00, 9.2000e+02, 6.0000e+00, 2.0010e+03,\n",
       "        6.8000e+01],\n",
       "       ...,\n",
       "       [2.3317e+05, 7.0000e+00, 1.5020e+03, 7.0000e+00, 2.0090e+03,\n",
       "        7.9000e+01],\n",
       "       [2.4535e+05, 8.0000e+00, 1.6940e+03, 7.0000e+00, 2.0080e+03,\n",
       "        6.4000e+01],\n",
       "       [1.7300e+05, 6.0000e+00, 9.5900e+02, 7.0000e+00, 2.0000e+03,\n",
       "        5.8000e+01]])"
      ]
     },
     "execution_count": 30,
     "metadata": {},
     "output_type": "execute_result"
    }
   ],
   "source": [
    "datos_entrenamiento"
   ]
  },
  {
   "cell_type": "code",
   "execution_count": 75,
   "id": "concerned-fifty",
   "metadata": {},
   "outputs": [
    {
     "data": {
      "text/plain": [
       "array([[7., 1.],\n",
       "       [6., 1.],\n",
       "       [7., 1.],\n",
       "       ...,\n",
       "       [7., 1.],\n",
       "       [8., 1.],\n",
       "       [6., 1.]])"
      ]
     },
     "execution_count": 75,
     "metadata": {},
     "output_type": "execute_result"
    }
   ],
   "source": [
    "#print(datos_entrenamiento)\n",
    "\n",
    "a,b,c,d,e,f = np.hsplit(datos_entrenamiento,6)\n",
    "b\n",
    "np.concatenate((b,np.ones((len(b),1))),axis=1)"
   ]
  },
  {
   "cell_type": "code",
   "execution_count": 188,
   "id": "relative-honolulu",
   "metadata": {},
   "outputs": [],
   "source": [
    "def entrenar(x,y,e,i,lr):\n",
    "    \n",
    "    #Matriz de dos columnas con unos en la segunda\n",
    "    x = np.array(x)\n",
    "    matrix = x.reshape(len(x),1)\n",
    "    x_ext = np.concatenate((matrix,np.ones((len(matrix),1))),axis=1)\n",
    "    #return matriz\n",
    "    \n",
    "    #Parametros del modelo \n",
    "    mb = [0,0]\n",
    "    error_promedio=[]\n",
    "    \n",
    "    while e > 0:\n",
    "        y_hat = np.dot(x_ext,mb)\n",
    "        \n",
    "        error =np.power(y_hat-y,2)/2\n",
    "        error_promedio.append(np.mean(error))\n",
    "        \n",
    "        grad_m = (y_hat-y)*x\n",
    "        grad_b= (y_hat-y)\n",
    "        \n",
    "        grad = [np.mean(grad_m),np.mean(grad_b)]\n",
    "        \n",
    "        print(\"y_hat\",y_hat)\n",
    "        print(\"Error\",error)\n",
    "        print(\"Error Promedio\",error_promedio)\n",
    "\n",
    "        \n",
    "        mb = mb-lr*np.array(grad)\n",
    "        e-=1\n",
    "    \n",
    "def evaluar(x,y,epoch):\n",
    "    print(\"evaluando modelo ,epoch: \",epoch)\n",
    "    pass # por ahora no hace nada"
   ]
  },
  {
   "cell_type": "code",
   "execution_count": 189,
   "id": "numerous-raleigh",
   "metadata": {},
   "outputs": [
    {
     "name": "stdout",
     "output_type": "stream",
     "text": [
      "y_hat [0. 0. 0.]\n",
      "Error [21736.125 16471.125 24976.125]\n",
      "Error Promedio [21061.125]\n",
      "y_hat [ 937732.  1154084.5  981002.5]\n",
      "Error [4.39475157e+11 6.65746067e+11 4.80963723e+11]\n",
      "Error Promedio [21061.125, 528728315550.375]\n",
      "y_hat [-4.76554486e+09 -5.86504970e+09 -4.98544583e+09]\n",
      "Error [1.13552099e+19 1.71994051e+19 1.24273362e+19]\n",
      "Error Promedio [21061.125, 528728315550.375, 1.3660650380365683e+19]\n"
     ]
    }
   ],
   "source": [
    "x = [65,80,68]\n",
    "y = [208.5,181.5,223.5]\n",
    "e = 3\n",
    "i = 5\n",
    "lr=1\n",
    "\n",
    "entrenar(x,y,e,i,lr)"
   ]
  },
  {
   "cell_type": "code",
   "execution_count": 79,
   "id": "square-particular",
   "metadata": {},
   "outputs": [
    {
     "name": "stdout",
     "output_type": "stream",
     "text": [
      "Terminando epoch : 5\n",
      "Terminando epoch : 10\n",
      "Terminando epoch : 15\n",
      "Terminando epoch : 20\n",
      "Terminando epoch : 25\n",
      "Se ha terminado el proceso de entrenamiento\n"
     ]
    }
   ],
   "source": [
    "x = [65,80,68]\n",
    "y = array([208.5,181.5,223.5])\n",
    "e = 25\n",
    "i = 5\n",
    "lr=0\n",
    "\n",
    "while epoch <= EPOCHS: # episodio <= EPISODIOS\n",
    "    entrenar(x,y)\n",
    "    \n",
    "    if epoch % 5 == 0:\n",
    "        print(\"Terminando epoch :\",epoch)\n",
    "        \n",
    "    epoch+=1\n",
    "    \n",
    "print(\"Se ha terminado el proceso de entrenamiento\")"
   ]
  }
 ],
 "metadata": {
  "kernelspec": {
   "display_name": "Python 3",
   "language": "python",
   "name": "python3"
  },
  "language_info": {
   "codemirror_mode": {
    "name": "ipython",
    "version": 3
   },
   "file_extension": ".py",
   "mimetype": "text/x-python",
   "name": "python",
   "nbconvert_exporter": "python",
   "pygments_lexer": "ipython3",
   "version": "3.8.5"
  }
 },
 "nbformat": 4,
 "nbformat_minor": 5
}
