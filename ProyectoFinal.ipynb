{
 "cells": [
  {
   "cell_type": "code",
   "execution_count": 3,
   "id": "electoral-appreciation",
   "metadata": {},
   "outputs": [],
   "source": [
    "import numpy as np\n",
    "import seaborn as sb\n",
    "import matplotlib.pyplot as plt"
   ]
  },
  {
   "cell_type": "code",
   "execution_count": 4,
   "id": "colored-forty",
   "metadata": {},
   "outputs": [],
   "source": [
    "casas =np.load('D:/UG/PythonForDataScience/Proyecto Final/proyecto_training_data.npy')"
   ]
  },
  {
   "cell_type": "code",
   "execution_count": 5,
   "id": "surprising-shannon",
   "metadata": {},
   "outputs": [],
   "source": [
    "#Separar los datasets\n",
    "datos_entrenamiento = casas[:int(len(casas)*0.80)] \n",
    "datos_pruebas = casas[int(len(casas)*0.80):]"
   ]
  },
  {
   "cell_type": "markdown",
   "id": "recorded-vacuum",
   "metadata": {},
   "source": [
    "**Analisis Exploratorio**"
   ]
  },
  {
   "cell_type": "code",
   "execution_count": 6,
   "id": "macro-venue",
   "metadata": {},
   "outputs": [
    {
     "name": "stdout",
     "output_type": "stream",
     "text": [
      "162950.0 6.0 1086.0 6.0 1973.0 70.0\n"
     ]
    }
   ],
   "source": [
    "#Calcular Media para cada variable\n",
    "SalePriceMedia = np.median( datos_entrenamiento[:,0])\n",
    "OverallQualMedia = np.median( datos_entrenamiento[:,1])\n",
    "stFlrSFMedia = np.median( datos_entrenamiento[:,2])\n",
    "TotRmsAbvGrdMedia = np.median( datos_entrenamiento[:,3])\n",
    "YearBuiltMedia = np.median( datos_entrenamiento[:,4])\n",
    "LotFrontageMedia = np.nanmedian( datos_entrenamiento[:,5])\n",
    "print(SalePriceMedia,OverallQualMedia,stFlrSFMedia,TotRmsAbvGrdMedia,YearBuiltMedia,LotFrontageMedia)"
   ]
  },
  {
   "cell_type": "code",
   "execution_count": 7,
   "id": "favorite-devices",
   "metadata": {},
   "outputs": [
    {
     "name": "stdout",
     "output_type": "stream",
     "text": [
      "755000.0 10.0 3228.0 14.0 2010.0 313.0\n"
     ]
    }
   ],
   "source": [
    "#Calcular Valor Maximo para cada variable\n",
    "SalePriceMax = datos_entrenamiento[np.argmax(datos_entrenamiento[:,0])][0]\n",
    "OverallQualMax = datos_entrenamiento[np.argmax(datos_entrenamiento[:,1])][1]\n",
    "stFlrSFMax = datos_entrenamiento[np.argmax(datos_entrenamiento[:,2])][2]\n",
    "TotRmsAbvGrdMax = datos_entrenamiento[np.argmax(datos_entrenamiento[:,3])][3]\n",
    "YearBuiltMax = datos_entrenamiento[np.argmax(datos_entrenamiento[:,4])][4]\n",
    "LotFrontageMax = datos_entrenamiento[np.nanargmax(datos_entrenamiento[:,5])][5]\n",
    "print(SalePriceMax,OverallQualMax,stFlrSFMax,TotRmsAbvGrdMax,YearBuiltMax,LotFrontageMax)"
   ]
  },
  {
   "cell_type": "code",
   "execution_count": 8,
   "id": "indonesian-questionnaire",
   "metadata": {},
   "outputs": [
    {
     "name": "stdout",
     "output_type": "stream",
     "text": [
      "34900.0 1.0 334.0 2.0 1875.0 21.0\n"
     ]
    }
   ],
   "source": [
    "#Calcular Valor Minimo para cada variable\n",
    "SalePriceMin = datos_entrenamiento[np.argmin(datos_entrenamiento[:,0])][0]\n",
    "OverallQualMin = datos_entrenamiento[np.argmin(datos_entrenamiento[:,1])][1]\n",
    "stFlrSFMin = datos_entrenamiento[np.argmin(datos_entrenamiento[:,2])][2]\n",
    "TotRmsAbvGrdMin = datos_entrenamiento[np.argmin(datos_entrenamiento[:,3])][3]\n",
    "YearBuiltMin = datos_entrenamiento[np.argmin(datos_entrenamiento[:,4])][4]\n",
    "LotFrontageMin = datos_entrenamiento[np.nanargmin(datos_entrenamiento[:,5])][5]\n",
    "\n",
    "print(SalePriceMin,OverallQualMin,stFlrSFMin,TotRmsAbvGrdMin,YearBuiltMin,LotFrontageMin)"
   ]
  },
  {
   "cell_type": "code",
   "execution_count": 9,
   "id": "premium-ranch",
   "metadata": {},
   "outputs": [
    {
     "name": "stdout",
     "output_type": "stream",
     "text": [
      "78781.95108033362 1.377435193240741 373.620331503586 1.6084517167387253 29.93888206867768 23.4659548199304\n"
     ]
    }
   ],
   "source": [
    "#Calcular Desviación estándar\n",
    "SalePriceStd = np.std(datos_entrenamiento[:,0])\n",
    "OverallQualStd = np.std( datos_entrenamiento[:,1])\n",
    "stFlrSFStd = np.std( datos_entrenamiento[:,2])\n",
    "TotRmsAbvGrdStd = np.std( datos_entrenamiento[:,3])\n",
    "YearBuiltStd = np.std( datos_entrenamiento[:,4])\n",
    "LotFrontageStd = np.nanstd( datos_entrenamiento[:,5])\n",
    "print(SalePriceStd,OverallQualStd,stFlrSFStd,TotRmsAbvGrdStd,YearBuiltStd,LotFrontageStd)"
   ]
  },
  {
   "cell_type": "code",
   "execution_count": 10,
   "id": "honest-empty",
   "metadata": {},
   "outputs": [
    {
     "data": {
      "text/plain": [
       "<seaborn.axisgrid.FacetGrid at 0x288c2db5eb0>"
      ]
     },
     "execution_count": 10,
     "metadata": {},
     "output_type": "execute_result"
    },
    {
     "data": {
      "image/png": "[encoded data removed]",
      "text/plain": [
       "<Figure size 360x360 with 1 Axes>"
      ]
     },
     "metadata": {
      "needs_background": "light"
     },
     "output_type": "display_data"
    }
   ],
   "source": [
    "#Histograma para SalePrice\n",
    "sb.displot(datos_entrenamiento[:,0])"
   ]
  },
  {
   "cell_type": "code",
   "execution_count": 11,
   "id": "earned-celebrity",
   "metadata": {},
   "outputs": [
    {
     "data": {
      "text/plain": [
       "<seaborn.axisgrid.FacetGrid at 0x288c31768b0>"
      ]
     },
     "execution_count": 11,
     "metadata": {},
     "output_type": "execute_result"
    },
    {
     "data": {
      "image/png": "[encoded data removed]",
      "text/plain": [
       "<Figure size 360x360 with 1 Axes>"
      ]
     },
     "metadata": {
      "needs_background": "light"
     },
     "output_type": "display_data"
    }
   ],
   "source": [
    "#Histograma para OverallQual\n",
    "sb.displot(datos_entrenamiento[:,1])"
   ]
  },
  {
   "cell_type": "code",
   "execution_count": 12,
   "id": "occasional-curtis",
   "metadata": {},
   "outputs": [
    {
     "data": {
      "text/plain": [
       "<seaborn.axisgrid.FacetGrid at 0x288c41c7670>"
      ]
     },
     "execution_count": 12,
     "metadata": {},
     "output_type": "execute_result"
    },
    {
     "data": {
      "image/png": "[encoded data removed]",
      "text/plain": [
       "<Figure size 360x360 with 1 Axes>"
      ]
     },
     "metadata": {
      "needs_background": "light"
     },
     "output_type": "display_data"
    }
   ],
   "source": [
    "#Histograma para 1stFlrSF\n",
    "sb.displot(datos_entrenamiento[:,2])"
   ]
  },
  {
   "cell_type": "code",
   "execution_count": 13,
   "id": "stone-cream",
   "metadata": {},
   "outputs": [
    {
     "data": {
      "text/plain": [
       "<seaborn.axisgrid.FacetGrid at 0x288c41c7e80>"
      ]
     },
     "execution_count": 13,
     "metadata": {},
     "output_type": "execute_result"
    },
    {
     "data": {
      "image/png": "[encoded data removed]",
      "text/plain": [
       "<Figure size 360x360 with 1 Axes>"
      ]
     },
     "metadata": {
      "needs_background": "light"
     },
     "output_type": "display_data"
    }
   ],
   "source": [
    "#Histograma para TotRmsAbvGrd\n",
    "sb.displot(datos_entrenamiento[:,3])"
   ]
  },
  {
   "cell_type": "code",
   "execution_count": 14,
   "id": "dated-privilege",
   "metadata": {},
   "outputs": [
    {
     "data": {
      "text/plain": [
       "<seaborn.axisgrid.FacetGrid at 0x288c42eed00>"
      ]
     },
     "execution_count": 14,
     "metadata": {},
     "output_type": "execute_result"
    },
    {
     "data": {
      "image/png": "[encoded data removed]",
      "text/plain": [
       "<Figure size 360x360 with 1 Axes>"
      ]
     },
     "metadata": {
      "needs_background": "light"
     },
     "output_type": "display_data"
    }
   ],
   "source": [
    "#Histograma para YearBuilt\n",
    "sb.displot(datos_entrenamiento[:,4])"
   ]
  },
  {
   "cell_type": "code",
   "execution_count": 15,
   "id": "fabulous-orlando",
   "metadata": {},
   "outputs": [
    {
     "data": {
      "text/plain": [
       "<seaborn.axisgrid.FacetGrid at 0x288c4449790>"
      ]
     },
     "execution_count": 15,
     "metadata": {},
     "output_type": "execute_result"
    },
    {
     "data": {
      "image/png": "[encoded data removed]",
      "text/plain": [
       "<Figure size 360x360 with 1 Axes>"
      ]
     },
     "metadata": {
      "needs_background": "light"
     },
     "output_type": "display_data"
    }
   ],
   "source": [
    "#Histograma para LotFrontage: \n",
    "sb.displot(datos_entrenamiento[:,5])"
   ]
  },
  {
   "cell_type": "code",
   "execution_count": 16,
   "id": "controversial-audio",
   "metadata": {},
   "outputs": [
    {
     "data": {
      "text/plain": [
       "0.7939900504626405"
      ]
     },
     "execution_count": 16,
     "metadata": {},
     "output_type": "execute_result"
    }
   ],
   "source": [
    "#Correlacion variable OverallQual\n",
    "CorrelacionOverallQual =  np.corrcoef(datos_entrenamiento[:,0],datos_entrenamiento[:,1])[0][1]\n",
    "CorrelacionOverallQual"
   ]
  },
  {
   "cell_type": "code",
   "execution_count": 17,
   "id": "directed-working",
   "metadata": {},
   "outputs": [
    {
     "data": {
      "text/plain": [
       "Text(0.5, 1.0, 'Correlación de OverallQual = 0.79399')"
      ]
     },
     "execution_count": 17,
     "metadata": {},
     "output_type": "execute_result"
    },
    {
     "data": {
      "image/png": "[encoded data removed]",
      "text/plain": [
       "<Figure size 432x288 with 1 Axes>"
      ]
     },
     "metadata": {
      "needs_background": "light"
     },
     "output_type": "display_data"
    }
   ],
   "source": [
    "#Correlacion variable OverallQual\n",
    "fig, ax =plt.subplots()\n",
    "ax.scatter(datos_entrenamiento[:,1],datos_entrenamiento[:,0])\n",
    "ax.set_title('Correlación de OverallQual = '+str(round(CorrelacionOverallQual,5)))"
   ]
  },
  {
   "cell_type": "code",
   "execution_count": 18,
   "id": "desirable-answer",
   "metadata": {},
   "outputs": [
    {
     "data": {
      "text/plain": [
       "0.6162887000998717"
      ]
     },
     "execution_count": 18,
     "metadata": {},
     "output_type": "execute_result"
    }
   ],
   "source": [
    "#Correlacion variable 1stFlrSF\n",
    "Correlacion1stFlrSF = np.corrcoef(datos_entrenamiento[:,0],datos_entrenamiento[:,2])[0][1]\n",
    "Correlacion1stFlrSF"
   ]
  },
  {
   "cell_type": "code",
   "execution_count": 19,
   "id": "herbal-johnson",
   "metadata": {},
   "outputs": [
    {
     "data": {
      "text/plain": [
       "Text(0.5, 1.0, 'Correlación de 1stFlrSF = 0.61629')"
      ]
     },
     "execution_count": 19,
     "metadata": {},
     "output_type": "execute_result"
    },
    {
     "data": {
      "image/png": "[encoded data removed]",
      "text/plain": [
       "<Figure size 432x288 with 1 Axes>"
      ]
     },
     "metadata": {
      "needs_background": "light"
     },
     "output_type": "display_data"
    }
   ],
   "source": [
    "#Correlacion variable 1stFlrSF\n",
    "fig, ax =plt.subplots()\n",
    "ax.scatter(datos_entrenamiento[:,2],datos_entrenamiento[:,0])\n",
    "ax.set_title('Correlación de 1stFlrSF = '+str(round(Correlacion1stFlrSF,5)))"
   ]
  },
  {
   "cell_type": "code",
   "execution_count": 20,
   "id": "positive-evanescence",
   "metadata": {},
   "outputs": [
    {
     "data": {
      "text/plain": [
       "0.5647069399593065"
      ]
     },
     "execution_count": 20,
     "metadata": {},
     "output_type": "execute_result"
    }
   ],
   "source": [
    "#Correlacion variable TotRmsAbvGrd\n",
    "np.corrcoef(datos_entrenamiento[:,0],datos_entrenamiento[:,3])[0][1]"
   ]
  },
  {
   "cell_type": "code",
   "execution_count": 21,
   "id": "related-vitamin",
   "metadata": {},
   "outputs": [
    {
     "data": {
      "text/plain": [
       "<matplotlib.collections.PathCollection at 0x288c4a62a60>"
      ]
     },
     "execution_count": 21,
     "metadata": {},
     "output_type": "execute_result"
    },
    {
     "data": {
      "image/png": "[encoded data removed]",
      "text/plain": [
       "<Figure size 432x288 with 1 Axes>"
      ]
     },
     "metadata": {
      "needs_background": "light"
     },
     "output_type": "display_data"
    }
   ],
   "source": [
    "#Correlacion variable TotRmsAbvGrd\n",
    "plt.scatter(datos_entrenamiento[:,3],datos_entrenamiento[:,0])"
   ]
  },
  {
   "cell_type": "code",
   "execution_count": 22,
   "id": "automated-touch",
   "metadata": {},
   "outputs": [
    {
     "data": {
      "text/plain": [
       "0.5341706927117515"
      ]
     },
     "execution_count": 22,
     "metadata": {},
     "output_type": "execute_result"
    }
   ],
   "source": [
    "#Correlacion variable YearBuilt: \n",
    "np.corrcoef(datos_entrenamiento[:,0],datos_entrenamiento[:,4])[0][1]"
   ]
  },
  {
   "cell_type": "code",
   "execution_count": 23,
   "id": "rocky-shift",
   "metadata": {},
   "outputs": [
    {
     "data": {
      "text/plain": [
       "<matplotlib.collections.PathCollection at 0x288c4ac4430>"
      ]
     },
     "execution_count": 23,
     "metadata": {},
     "output_type": "execute_result"
    },
    {
     "data": {
      "image/png": "[encoded data removed]",
      "text/plain": [
       "<Figure size 432x288 with 1 Axes>"
      ]
     },
     "metadata": {
      "needs_background": "light"
     },
     "output_type": "display_data"
    }
   ],
   "source": [
    "#Correlacion variable YearBuilt\n",
    "plt.scatter(datos_entrenamiento[:,4],datos_entrenamiento[:,0])"
   ]
  },
  {
   "cell_type": "code",
   "execution_count": 24,
   "id": "capital-lingerie",
   "metadata": {},
   "outputs": [
    {
     "data": {
      "text/plain": [
       "0.3485488112103933"
      ]
     },
     "execution_count": 24,
     "metadata": {},
     "output_type": "execute_result"
    }
   ],
   "source": [
    "#Correlacion variable LotFrontage: \n",
    "LotFrontage = datos_entrenamiento[:,5]\n",
    "LotFrontage[np.isnan(LotFrontage)]=LotFrontageMedia\n",
    "np.corrcoef(datos_entrenamiento[:,0],LotFrontage)[0][1]"
   ]
  },
  {
   "cell_type": "code",
   "execution_count": 25,
   "id": "preliminary-apache",
   "metadata": {},
   "outputs": [
    {
     "data": {
      "text/plain": [
       "<matplotlib.collections.PathCollection at 0x288c4b1c610>"
      ]
     },
     "execution_count": 25,
     "metadata": {},
     "output_type": "execute_result"
    },
    {
     "data": {
      "image/png": "[encoded data removed]",
      "text/plain": [
       "<Figure size 432x288 with 1 Axes>"
      ]
     },
     "metadata": {
      "needs_background": "light"
     },
     "output_type": "display_data"
    }
   ],
   "source": [
    "#Correlacion variable LotFrontage: \n",
    "plt.scatter(LotFrontage,datos_entrenamiento[:,0])"
   ]
  },
  {
   "cell_type": "markdown",
   "id": "impossible-stick",
   "metadata": {},
   "source": [
    "Las variables que tienen mayor correlación con **SalePrice** son ***OverallQual*** y ***1stFlrSf***"
   ]
  },
  {
   "cell_type": "markdown",
   "id": "given-capitol",
   "metadata": {},
   "source": [
    "# Función para entrenamiento de modelo"
   ]
  },
  {
   "cell_type": "code",
   "execution_count": 473,
   "id": "liberal-chick",
   "metadata": {},
   "outputs": [],
   "source": [
    "#Separacion de las variables del dataset\n",
    "\n",
    "a,b,c,d,e,f = np.hsplit(datos_entrenamiento,6)\n",
    "a_test,b_test,c_test,d_test,e_test,f_test = np.hsplit(datos_pruebas,6)"
   ]
  },
  {
   "cell_type": "code",
   "execution_count": 511,
   "id": "least-broadway",
   "metadata": {},
   "outputs": [],
   "source": [
    "def entrenar(x,y,e,i,lr):\n",
    "    c = 0\n",
    "    #Matriz de dos columnas con unos en la segunda\n",
    "    x = np.array(x)\n",
    "    matrix = x.reshape(len(x),1)\n",
    "    x_ext = np.concatenate((matrix,np.ones((len(matrix),1))),axis=1)\n",
    "    #return matriz\n",
    "    \n",
    "    #Parametros del modelo \n",
    "    mb = np.array([0,0])\n",
    "    error_promedio=[]\n",
    "    iteraciones=[]\n",
    "    mb_res=np.array([0,0])\n",
    "    \n",
    "    while e > c:\n",
    "        y_hat = np.dot(x_ext,mb)\n",
    "        \n",
    "        error =np.power(y_hat-y,2)/2\n",
    "        error_promedio.append(np.mean(error))\n",
    "        iteraciones.append(c)\n",
    "        \n",
    "        grad_m = (y_hat-y)*x\n",
    "        grad_b= (y_hat-y)\n",
    "        \n",
    "        grad = [np.mean(grad_m),np.mean(grad_b)]\n",
    "\n",
    "        \n",
    "        mb = mb-lr*np.array(grad)\n",
    "        mb_res = np.vstack((mb_res,mb))\n",
    "        c+=1\n",
    "        \n",
    "    iteraciones=np.array(iteraciones)\n",
    "    error_promedio=np.array(error_promedio)\n",
    "    \n",
    "    s = iteraciones.reshape(len(iteraciones),1)\n",
    "    z = error_promedio.reshape(len(error_promedio),1)\n",
    "    \n",
    "    err_prom = np.concatenate((s,z),axis=1)\n",
    "    return err_prom, mb_res ,y_hat"
   ]
  },
  {
   "cell_type": "markdown",
   "id": "alternative-spell",
   "metadata": {},
   "source": [
    "# Probando modelo para variable OverallQual"
   ]
  },
  {
   "cell_type": "markdown",
   "id": "similar-yesterday",
   "metadata": {},
   "source": [
    "### Con datos de Entrenamiento"
   ]
  },
  {
   "cell_type": "code",
   "execution_count": 512,
   "id": "sound-qatar",
   "metadata": {},
   "outputs": [],
   "source": [
    "x =  b_test #[65,80,68]\n",
    "y =  a_test #[208.5,181.5,223.5]\n",
    "e = 40\n",
    "i = 0\n",
    "lr=0.001\n",
    "\n",
    "e,p,q = entrenar(x,y,e,i,lr)"
   ]
  },
  {
   "cell_type": "markdown",
   "id": "monthly-shirt",
   "metadata": {},
   "source": [
    "**Grafica de errores**"
   ]
  },
  {
   "cell_type": "code",
   "execution_count": 513,
   "id": "environmental-straight",
   "metadata": {},
   "outputs": [
    {
     "data": {
      "image/png": "[encoded data removed]",
      "text/plain": [
       "<Figure size 432x288 with 1 Axes>"
      ]
     },
     "metadata": {
      "needs_background": "light"
     },
     "output_type": "display_data"
    }
   ],
   "source": [
    "x = e[:,0]\n",
    "y = e[:,1]\n",
    "\n",
    "fig = plt.figure()\n",
    "ax = fig.add_subplot(1,1,1)\n",
    "\n",
    "ax.grid()\n",
    "ax.plot(x,y)\n",
    "\n",
    "ax.set_xlabel('Interacion')\n",
    "ax.set_ylabel('Error Promedio')\n",
    "ax.set_title('Error Promedio por iteraciones')\n",
    "\n",
    "plt.show()"
   ]
  },
  {
   "cell_type": "markdown",
   "id": "recovered-support",
   "metadata": {},
   "source": [
    "**Graficar la pendiente de la recta**"
   ]
  },
  {
   "cell_type": "code",
   "execution_count": 514,
   "id": "complimentary-italic",
   "metadata": {},
   "outputs": [
    {
     "data": {
      "image/png": "[encoded data removed]",
      "text/plain": [
       "<Figure size 432x288 with 1 Axes>"
      ]
     },
     "metadata": {
      "needs_background": "light"
     },
     "output_type": "display_data"
    }
   ],
   "source": [
    "x = p[:,0]\n",
    "y = p[:,1]\n",
    "\n",
    "fig = plt.figure()\n",
    "ax = fig.add_subplot(1,1,1)\n",
    "\n",
    "ax.grid()\n",
    "ax.plot(x,y)\n",
    "\n",
    "ax.set_xlabel('Parametro m')\n",
    "ax.set_ylabel('Parametro b')\n",
    "ax.set_title('Recta')\n",
    "\n",
    "plt.show()"
   ]
  },
  {
   "cell_type": "markdown",
   "id": "secret-terry",
   "metadata": {},
   "source": [
    "### Con datos de pruebas (20%) "
   ]
  },
  {
   "cell_type": "code",
   "execution_count": 549,
   "id": "former-particular",
   "metadata": {},
   "outputs": [],
   "source": [
    "x =  b_test \n",
    "y =  a_test \n",
    "e = 40\n",
    "i = 0\n",
    "lr=0.001\n",
    "\n",
    "e,p,y1_pred_m = entrenar(x,y,e,i,lr)"
   ]
  },
  {
   "cell_type": "code",
   "execution_count": 551,
   "id": "reduced-scope",
   "metadata": {},
   "outputs": [
    {
     "data": {
      "text/plain": [
       "Text(0, 0.5, 'Precio de la casa')"
      ]
     },
     "execution_count": 551,
     "metadata": {},
     "output_type": "execute_result"
    },
    {
     "data": {
      "image/png": "[encoded data removed]",
      "text/plain": [
       "<Figure size 432x288 with 1 Axes>"
      ]
     },
     "metadata": {
      "needs_background": "light"
     },
     "output_type": "display_data"
    }
   ],
   "source": [
    "plt.scatter(x,y)\n",
    "plt.plot(x,y1_pred_m,color='red', linewidth=3)\n",
    "plt.title('Regresión Lineal')\n",
    "plt.xlabel('Calidad de la casa')\n",
    "plt.ylabel('Precio de la casa')"
   ]
  },
  {
   "cell_type": "markdown",
   "id": "universal-setup",
   "metadata": {},
   "source": [
    "## Probando Modelo para variable  1stFlrSf"
   ]
  },
  {
   "cell_type": "code",
   "execution_count": 544,
   "id": "mobile-receptor",
   "metadata": {},
   "outputs": [],
   "source": [
    "x =  c #[65,80,68]\n",
    "y =  a #[208.5,181.5,223.5]\n",
    "e = 10\n",
    "i = 0\n",
    "lr=0.000001\n",
    "\n",
    "e,p,q = entrenar(x,y,e,i,lr)"
   ]
  },
  {
   "cell_type": "markdown",
   "id": "contrary-explanation",
   "metadata": {},
   "source": [
    "**Grafica de errores**"
   ]
  },
  {
   "cell_type": "code",
   "execution_count": 545,
   "id": "marine-northwest",
   "metadata": {},
   "outputs": [
    {
     "data": {
      "image/png": "[encoded data removed]",
      "text/plain": [
       "<Figure size 432x288 with 1 Axes>"
      ]
     },
     "metadata": {
      "needs_background": "light"
     },
     "output_type": "display_data"
    }
   ],
   "source": [
    "x = e[:,0]\n",
    "y = e[:,1]\n",
    "\n",
    "fig = plt.figure()\n",
    "ax = fig.add_subplot(1,1,1)\n",
    "\n",
    "ax.grid()\n",
    "ax.plot(x,y)\n",
    "\n",
    "ax.set_xlabel('Interacion')\n",
    "ax.set_ylabel('Error Promedio')\n",
    "ax.set_title('Error Promedio por iteraciones')\n",
    "\n",
    "plt.show()"
   ]
  },
  {
   "cell_type": "markdown",
   "id": "appreciated-calibration",
   "metadata": {},
   "source": [
    "### Con datos de pruebas "
   ]
  },
  {
   "cell_type": "code",
   "execution_count": 547,
   "id": "hungarian-astronomy",
   "metadata": {},
   "outputs": [],
   "source": [
    "x =  c_test \n",
    "y =  a_test \n",
    "e = 10\n",
    "i = 0\n",
    "lr=0.000001\n",
    "\n",
    "e,p,y2_pred_m = entrenar(x,y,e,i,lr)"
   ]
  },
  {
   "cell_type": "code",
   "execution_count": 548,
   "id": "outer-lesson",
   "metadata": {},
   "outputs": [
    {
     "data": {
      "text/plain": [
       "Text(0, 0.5, 'Precio de la casa')"
      ]
     },
     "execution_count": 548,
     "metadata": {},
     "output_type": "execute_result"
    },
    {
     "data": {
      "image/png": "[encoded data removed]",
      "text/plain": [
       "<Figure size 432x288 with 1 Axes>"
      ]
     },
     "metadata": {
      "needs_background": "light"
     },
     "output_type": "display_data"
    }
   ],
   "source": [
    "plt.scatter(x,y)\n",
    "plt.plot(x,y2_pred_m,color='red', linewidth=3)\n",
    "plt.title('Regresión Lineal')\n",
    "plt.xlabel('Calidad de la casa')\n",
    "plt.ylabel('Precio de la casa')"
   ]
  },
  {
   "cell_type": "markdown",
   "id": "surprised-passion",
   "metadata": {},
   "source": [
    "### Utilizando  Scikit-learn"
   ]
  },
  {
   "cell_type": "code",
   "execution_count": 464,
   "id": "tamil-television",
   "metadata": {},
   "outputs": [],
   "source": [
    "from sklearn import linear_model"
   ]
  },
  {
   "cell_type": "markdown",
   "id": "cooked-constant",
   "metadata": {},
   "source": [
    "**Variable OverallQual**"
   ]
  },
  {
   "cell_type": "code",
   "execution_count": 556,
   "id": "portuguese-belgium",
   "metadata": {},
   "outputs": [],
   "source": [
    "x =  b \n",
    "y =  a \n",
    "x_test =  b_test \n",
    "y_test =  a_test \n",
    "lr = linear_model.LinearRegression()"
   ]
  },
  {
   "cell_type": "code",
   "execution_count": 557,
   "id": "further-protocol",
   "metadata": {},
   "outputs": [
    {
     "data": {
      "text/plain": [
       "LinearRegression()"
      ]
     },
     "execution_count": 557,
     "metadata": {},
     "output_type": "execute_result"
    }
   ],
   "source": [
    "lr.fit(x,y)"
   ]
  },
  {
   "cell_type": "code",
   "execution_count": 558,
   "id": "virtual-filename",
   "metadata": {},
   "outputs": [],
   "source": [
    "y1_pred_sk=lr.predict(x_test)"
   ]
  },
  {
   "cell_type": "code",
   "execution_count": 560,
   "id": "wireless-shuttle",
   "metadata": {},
   "outputs": [
    {
     "data": {
      "text/plain": [
       "Text(0, 0.5, 'Precio de la casa')"
      ]
     },
     "execution_count": 560,
     "metadata": {},
     "output_type": "execute_result"
    },
    {
     "data": {
      "image/png": "[encoded data removed]",
      "text/plain": [
       "<Figure size 432x288 with 1 Axes>"
      ]
     },
     "metadata": {
      "needs_background": "light"
     },
     "output_type": "display_data"
    }
   ],
   "source": [
    "plt.scatter(x_test,y_test)\n",
    "plt.plot(x_test,y1_pred_sk,color='red', linewidth=3)\n",
    "plt.title('Regresión Lineal')\n",
    "plt.xlabel('Calidad de la casa')\n",
    "plt.ylabel('Precio de la casa')"
   ]
  },
  {
   "cell_type": "markdown",
   "id": "confident-hindu",
   "metadata": {},
   "source": [
    "**Variable 1stFlrSF**"
   ]
  },
  {
   "cell_type": "code",
   "execution_count": 523,
   "id": "rapid-oracle",
   "metadata": {},
   "outputs": [],
   "source": [
    "x =  c \n",
    "y =  a \n",
    "x_test =  c_test \n",
    "y_test =  a_test \n",
    "lr = linear_model.LinearRegression()"
   ]
  },
  {
   "cell_type": "code",
   "execution_count": 524,
   "id": "lyric-presence",
   "metadata": {},
   "outputs": [
    {
     "data": {
      "text/plain": [
       "LinearRegression()"
      ]
     },
     "execution_count": 524,
     "metadata": {},
     "output_type": "execute_result"
    }
   ],
   "source": [
    "lr.fit(x,y)"
   ]
  },
  {
   "cell_type": "code",
   "execution_count": 586,
   "id": "interested-denmark",
   "metadata": {},
   "outputs": [],
   "source": [
    "y2_pred_sk =lr.predict(x_test)"
   ]
  },
  {
   "cell_type": "code",
   "execution_count": 587,
   "id": "working-standing",
   "metadata": {},
   "outputs": [
    {
     "data": {
      "text/plain": [
       "Text(0, 0.5, 'Precio de la casa')"
      ]
     },
     "execution_count": 587,
     "metadata": {},
     "output_type": "execute_result"
    },
    {
     "data": {
      "image/png": "[encoded data removed]",
      "text/plain": [
       "<Figure size 432x288 with 1 Axes>"
      ]
     },
     "metadata": {
      "needs_background": "light"
     },
     "output_type": "display_data"
    }
   ],
   "source": [
    "plt.scatter(x_test,y_test)\n",
    "plt.plot(x_test,y2_pred_sk,color='red', linewidth=3)\n",
    "plt.title('Regresión Lineal')\n",
    "plt.xlabel('Pies Cuadrados primer piso')\n",
    "plt.ylabel('Precio de la casa')"
   ]
  },
  {
   "cell_type": "code",
   "execution_count": 570,
   "id": "understanding-naples",
   "metadata": {},
   "outputs": [],
   "source": [
    "#Resultados obtenidos para la variable OverallQual\n",
    "y1_pred_sk\n",
    "y1_pred_m\n",
    "y_test\n",
    "Promedio = (y1_pred_sk+y1_pred_m)/2"
   ]
  },
  {
   "cell_type": "code",
   "execution_count": 579,
   "id": "color-coral",
   "metadata": {},
   "outputs": [
    {
     "data": {
      "text/plain": [
       "34093.669252767926"
      ]
     },
     "execution_count": 579,
     "metadata": {},
     "output_type": "execute_result"
    }
   ],
   "source": [
    "#Error de las predicciones del modelo con sciki-learn\n",
    "err = y_test - y1_pred_sk\n",
    "np.mean(abs(err))"
   ]
  },
  {
   "cell_type": "code",
   "execution_count": 581,
   "id": "extraordinary-driver",
   "metadata": {},
   "outputs": [
    {
     "data": {
      "text/plain": [
       "63741.975618167584"
      ]
     },
     "execution_count": 581,
     "metadata": {},
     "output_type": "execute_result"
    }
   ],
   "source": [
    "#Error de las predicciones del modelo entrenado manualmente\n",
    "err = y_test - y1_pred_m\n",
    "np.mean(abs(err))"
   ]
  },
  {
   "cell_type": "code",
   "execution_count": 584,
   "id": "returning-appreciation",
   "metadata": {},
   "outputs": [
    {
     "data": {
      "text/plain": [
       "41438.156786429754"
      ]
     },
     "execution_count": 584,
     "metadata": {},
     "output_type": "execute_result"
    }
   ],
   "source": [
    "#Error de las prediciones obtenidas del promedio de ambos modelos\n",
    "err = y_test - Promedio\n",
    "np.mean(abs(err))"
   ]
  },
  {
   "cell_type": "markdown",
   "id": "august-algeria",
   "metadata": {},
   "source": [
    "**Para la variable independinte OverallQual es mejor el modelo con Sciki-learn**"
   ]
  },
  {
   "cell_type": "code",
   "execution_count": 589,
   "id": "suspected-brunei",
   "metadata": {},
   "outputs": [],
   "source": [
    "#Resultados obtenidos para la variable 1stFlrSF\n",
    "y2_pred_sk\n",
    "y2_pred_m\n",
    "y_test\n",
    "Promedio = (y1_pred_sk+y1_pred_m)/2"
   ]
  },
  {
   "cell_type": "code",
   "execution_count": 591,
   "id": "solved-consequence",
   "metadata": {},
   "outputs": [
    {
     "data": {
      "text/plain": [
       "34093.669252767926"
      ]
     },
     "execution_count": 591,
     "metadata": {},
     "output_type": "execute_result"
    }
   ],
   "source": [
    "#Error de las predicciones del modelo con sciki-learn\n",
    "err = y_test - y2_pred_sk\n",
    "np.mean(abs(err))"
   ]
  },
  {
   "cell_type": "code",
   "execution_count": 593,
   "id": "friendly-terry",
   "metadata": {},
   "outputs": [
    {
     "data": {
      "text/plain": [
       "79492.08672551055"
      ]
     },
     "execution_count": 593,
     "metadata": {},
     "output_type": "execute_result"
    }
   ],
   "source": [
    "#Error de las predicciones del modelo entrenado manualmente\n",
    "err = y_test - y2_pred_m\n",
    "np.mean(abs(err))"
   ]
  },
  {
   "cell_type": "code",
   "execution_count": 594,
   "id": "mineral-browse",
   "metadata": {},
   "outputs": [
    {
     "data": {
      "text/plain": [
       "41438.156786429754"
      ]
     },
     "execution_count": 594,
     "metadata": {},
     "output_type": "execute_result"
    }
   ],
   "source": [
    "#Error de las prediciones obtenidas del promedio de ambos modelos\n",
    "err = y_test - Promedio\n",
    "np.mean(abs(err))"
   ]
  },
  {
   "cell_type": "markdown",
   "id": "athletic-money",
   "metadata": {},
   "source": [
    "**Para la Variable 1stFlrSF también resultó ser mejor el modelo hecho con Sciki-learn**"
   ]
  }
 ],
 "metadata": {
  "kernelspec": {
   "display_name": "Python 3",
   "language": "python",
   "name": "python3"
  },
  "language_info": {
   "codemirror_mode": {
    "name": "ipython",
    "version": 3
   },
   "file_extension": ".py",
   "mimetype": "text/x-python",
   "name": "python",
   "nbconvert_exporter": "python",
   "pygments_lexer": "ipython3",
   "version": "3.8.5"
  }
 },
 "nbformat": 4,
 "nbformat_minor": 5
}
