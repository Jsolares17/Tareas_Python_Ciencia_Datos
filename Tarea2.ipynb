{
  "nbformat": 4,
  "nbformat_minor": 0,
  "metadata": {
    "colab": {
      "name": "Untitled1.ipynb",
      "provenance": []
    },
    "kernelspec": {
      "name": "python3",
      "display_name": "Python 3"
    }
  },
  "cells": [
    {
      "cell_type": "markdown",
      "metadata": {
        "id": "Fx3ZqsP4-XvN"
      },
      "source": [
        "**CONTROL DE VERSIONES**\r\n",
        "\r\n",
        "Los sistemas de control de versiones CVS por sus siglas en ingés, son un tipo de software especial que se utiliza para llevar un seguimiento de los cambios aplicados a un archivo. Estos sistemas no solo guardan información de las versiones anteriores de los archivos, sino que también guardan datos relacionados como quien realizó la modificación, fecha de los ultimos cambios, etc. \r\n",
        "\r\n",
        "Estos sistemas son de gran utilidad sobre todo para equipos de desarrolladores, ya que facilita la colaboración entre los miembros del equipo. Sin embargo también es ampliamente utilizado en proyectos de dasarrollo unitario ya que facilita poder volver a una versión anterior o simplemente guardar un histórico de los cambios realizados. \r\n",
        "\r\n",
        "\r\n",
        "**GIT**\r\n",
        "\r\n",
        "Existen diferentes sistemas de control de versiones, sin embargo git es el más popular en la actualidad y es casi un estandar en la industria. Git utiliza gráficos acíclicos dirigidos para el control del historico de instantaneas. Esto significa que cada instantanea en git está relacionada con un conjunto de padres conformado por las instantaneas que la precedieron. Esto a diferencia de un historial lineal, que solo tendría un padre, permite unificar proyectos en algún punto o separar una línea en dos diferentes despues de arreglar algún error. \r\n",
        "\r\n",
        "**Repositorios en GIT**\r\n",
        "\r\n",
        "Los repositorios están conformados por objetos y referencias. Los objetos que comunmente son confirmaciones tienen su referencia formada por un codigo hash para poder identificarlos. Los comandos git manipulan estos objetos en la linea temporal, la cual ya establecimos que no es lineal. \r\n",
        "\r\n",
        "\r\n"
      ]
    },
    {
      "cell_type": "markdown",
      "metadata": {
        "id": "8DEby6q9uXH5"
      },
      "source": [
        "Un comando sencillo para validar nuestra instalación de git es el siguiente: "
      ]
    },
    {
      "cell_type": "code",
      "metadata": {
        "colab": {
          "base_uri": "https://localhost:8080/"
        },
        "id": "arXYb7P9DEWN",
        "outputId": "22e32edc-28e5-4875-a7f7-2d14677405da"
      },
      "source": [
        "%sx git --version"
      ],
      "execution_count": 21,
      "outputs": [
        {
          "output_type": "execute_result",
          "data": {
            "text/plain": [
              "['git version 2.17.1']"
            ]
          },
          "metadata": {
            "tags": []
          },
          "execution_count": 21
        }
      ]
    },
    {
      "cell_type": "markdown",
      "metadata": {
        "id": "NWuM1Mu2waTi"
      },
      "source": [
        "\r\n",
        "\r\n",
        "*   Crear un nuevo repositorio vacío\r\n",
        "\r\n"
      ]
    },
    {
      "cell_type": "code",
      "metadata": {
        "colab": {
          "base_uri": "https://localhost:8080/"
        },
        "id": "jlhdf2YmwlDN",
        "outputId": "706af9ef-06fc-4c54-c5af-e6676ccc3df2"
      },
      "source": [
        "%sx git init"
      ],
      "execution_count": 24,
      "outputs": [
        {
          "output_type": "execute_result",
          "data": {
            "text/plain": [
              "['Initialized empty Git repository in /content/.git/']"
            ]
          },
          "metadata": {
            "tags": []
          },
          "execution_count": 24
        }
      ]
    },
    {
      "cell_type": "code",
      "metadata": {
        "colab": {
          "base_uri": "https://localhost:8080/"
        },
        "id": "-CJoPmnlw3zM",
        "outputId": "05fbad8d-1914-4165-a398-96e3498e7f45"
      },
      "source": [
        "%sx ls .git"
      ],
      "execution_count": 26,
      "outputs": [
        {
          "output_type": "execute_result",
          "data": {
            "text/plain": [
              "['branches  config  description  HEAD  hooks  info  objects  refs']"
            ]
          },
          "metadata": {
            "tags": []
          },
          "execution_count": 26
        }
      ]
    },
    {
      "cell_type": "code",
      "metadata": {
        "colab": {
          "base_uri": "https://localhost:8080/"
        },
        "id": "XK08-mpAy22_",
        "outputId": "8d51c095-f279-46cb-eb00-bdb00ba4d8ab"
      },
      "source": [
        "#Verificar el status de git\r\n",
        "%sx git status"
      ],
      "execution_count": 27,
      "outputs": [
        {
          "output_type": "execute_result",
          "data": {
            "text/plain": [
              "['On branch master',\n",
              " '',\n",
              " 'No commits yet',\n",
              " '',\n",
              " 'Untracked files:',\n",
              " '  (use \"git add <file>...\" to include in what will be committed)',\n",
              " '',\n",
              " '\\t\\x1b[31m.config/\\x1b[m',\n",
              " '\\t\\x1b[31msample_data/\\x1b[m',\n",
              " '',\n",
              " 'nothing added to commit but untracked files present (use \"git add\" to track)']"
            ]
          },
          "metadata": {
            "tags": []
          },
          "execution_count": 27
        }
      ]
    },
    {
      "cell_type": "code",
      "metadata": {
        "colab": {
          "base_uri": "https://localhost:8080/"
        },
        "id": "j0-m0ri20TMQ",
        "outputId": "bdaa3d91-3d4e-47fd-b165-87f6ca576b84"
      },
      "source": [
        "%sx echo \"Hola Mundo\" > holamundo.txt"
      ],
      "execution_count": 29,
      "outputs": [
        {
          "output_type": "execute_result",
          "data": {
            "text/plain": [
              "[]"
            ]
          },
          "metadata": {
            "tags": []
          },
          "execution_count": 29
        }
      ]
    },
    {
      "cell_type": "code",
      "metadata": {
        "colab": {
          "base_uri": "https://localhost:8080/"
        },
        "id": "hxUnlI8e1BNN",
        "outputId": "c2822215-4082-4e4e-818c-d16d1675c2e8"
      },
      "source": [
        "%sx ls -a"
      ],
      "execution_count": 30,
      "outputs": [
        {
          "output_type": "execute_result",
          "data": {
            "text/plain": [
              "['.  ..  .config\\t.git  holamundo.txt  sample_data']"
            ]
          },
          "metadata": {
            "tags": []
          },
          "execution_count": 30
        }
      ]
    },
    {
      "cell_type": "code",
      "metadata": {
        "colab": {
          "base_uri": "https://localhost:8080/"
        },
        "id": "Te1KjtN91JKG",
        "outputId": "cefd6e7e-34ca-4db2-ef99-ecb7638d735d"
      },
      "source": [
        "%sx git add holamundo.txt"
      ],
      "execution_count": 35,
      "outputs": [
        {
          "output_type": "execute_result",
          "data": {
            "text/plain": [
              "[]"
            ]
          },
          "metadata": {
            "tags": []
          },
          "execution_count": 35
        }
      ]
    },
    {
      "cell_type": "markdown",
      "metadata": {
        "id": "IMYmxPiR2J3w"
      },
      "source": [
        "Para confirmar un cambio en git se utiliza el siguiente comando:"
      ]
    },
    {
      "cell_type": "code",
      "metadata": {
        "colab": {
          "base_uri": "https://localhost:8080/"
        },
        "id": "s-kzzUc51tkL",
        "outputId": "b50624ca-6238-4368-b71c-1658e5fdbace"
      },
      "source": [
        "%sx git commit"
      ],
      "execution_count": 33,
      "outputs": [
        {
          "output_type": "execute_result",
          "data": {
            "text/plain": [
              "['',\n",
              " '*** Please tell me who you are.',\n",
              " '',\n",
              " 'Run',\n",
              " '',\n",
              " '  git config --global user.email \"you@example.com\"',\n",
              " '  git config --global user.name \"Your Name\"',\n",
              " '',\n",
              " \"to set your account's default identity.\",\n",
              " 'Omit --global to set the identity only in this repository.',\n",
              " '',\n",
              " \"fatal: unable to auto-detect email address (got 'root@707f9262fde6.(none)')\"]"
            ]
          },
          "metadata": {
            "tags": []
          },
          "execution_count": 33
        }
      ]
    },
    {
      "cell_type": "markdown",
      "metadata": {
        "id": "VrzYLa912yy3"
      },
      "source": [
        "La siguiente instrucción se utiliza para ver las acciones que se han realizado en git. En este caso aun no hemos hecho ningún commit"
      ]
    },
    {
      "cell_type": "code",
      "metadata": {
        "colab": {
          "base_uri": "https://localhost:8080/"
        },
        "id": "3niD2ItK15PW",
        "outputId": "b96fdb56-c346-4716-9f7f-3349d7cdf4f3"
      },
      "source": [
        "%sx git log"
      ],
      "execution_count": 36,
      "outputs": [
        {
          "output_type": "execute_result",
          "data": {
            "text/plain": [
              "[\"fatal: your current branch 'master' does not have any commits yet\"]"
            ]
          },
          "metadata": {
            "tags": []
          },
          "execution_count": 36
        }
      ]
    },
    {
      "cell_type": "markdown",
      "metadata": {
        "id": "Jsq9xZA54pzK"
      },
      "source": [
        "**Conclusiones**\r\n",
        "\r\n",
        "Git es una poderosa herramienta para control de versiones y colaboración en equipos de desarrollo. No es muy amigable para personas no tecnicas ya que requieren conocer el funcionamiento y los comandos utilizados para manipular los cambios. Sin embargo es posible utilizar una versión más sencilla y amigable basada en git, la cual se llama github la cual también proporciona alojamiento web para nuestros repositorios. "
      ]
    },
    {
      "cell_type": "code",
      "metadata": {
        "id": "k0bBamd82uIX"
      },
      "source": [
        ""
      ],
      "execution_count": null,
      "outputs": []
    }
  ]
}