{
 "cells": [
  {
   "cell_type": "code",
   "execution_count": 94,
   "id": "julian-liquid",
   "metadata": {},
   "outputs": [],
   "source": [
    "import numpy as np\n",
    "import matplotlib.pyplot as plt"
   ]
  },
  {
   "cell_type": "markdown",
   "id": "spare-thinking",
   "metadata": {},
   "source": [
    "Ejercicio #1"
   ]
  },
  {
   "cell_type": "code",
   "execution_count": 4,
   "id": "express-pendant",
   "metadata": {},
   "outputs": [
    {
     "name": "stdout",
     "output_type": "stream",
     "text": [
      "[0.   0.1  0.2  0.3  0.4  0.5  0.51 0.52 0.53 0.54 0.55 0.56 0.57 0.58\n",
      " 0.59 0.6  0.7  0.8  0.9  1.  ]\n"
     ]
    }
   ],
   "source": [
    "# tu codigo aqui (~ 5 lineas de codigo):\n",
    "a = np.arange(0,0.5,0.1)\n",
    "b = np.arange(0.5,0.6,0.01)\n",
    "c = np.arange(0.6,1.01,0.1)\n",
    "\n",
    "xs = np.hstack((a,b,c))\n",
    "print(xs)"
   ]
  },
  {
   "cell_type": "markdown",
   "id": "finite-surprise",
   "metadata": {},
   "source": [
    "Ejercicio #2"
   ]
  },
  {
   "cell_type": "code",
   "execution_count": 119,
   "id": "african-ceramic",
   "metadata": {},
   "outputs": [
    {
     "name": "stdout",
     "output_type": "stream",
     "text": [
      "[ 0.06613785 -0.15322631 -0.14123437 ... -0.46769125 -0.51433127\n",
      " -0.05458044]\n"
     ]
    }
   ],
   "source": [
    "# las siguientes 3 lineas generan un conjunto de datos que se comportan segun una onda senoidal pero tienen\n",
    "# ruido por lo cual vamos a suavizar usando promedio de 3 puntos\n",
    "# en este ejercicio los generamos manualmente pero pensemos que son datos que pudieron ser generados con algún\n",
    "# instrumento como un sensor, o bien estar almacenados en una base de datos\n",
    "sample_points = 10000\n",
    "inicio_intervalo = 0\n",
    "ruido = 0.5*np.random.randn(sample_points) #el ruido comunmente se debe a aleatoriedad o captura no exacta de info.\n",
    "x = np.linspace(0,5*np.pi,sample_points) \n",
    "y = np.sin(x) + ruido\n",
    "\n",
    "#xs es \"x suavizado\", inicialmente es una copia de x\n",
    "ys =  y.copy()\n",
    "\n",
    "ys_left = np.append(ys[1:len(ys)],ys[0]) #Rotar los elementos a la izquierda\n",
    "ys_right = np.append([ys[-1]],ys[0:len(ys)-1]) #Rotar los elementos a la derecha\n",
    "\n",
    "ys = (ys_left+ys+ys_right)/3\n",
    "\n",
    "print(ys)"
   ]
  },
  {
   "cell_type": "code",
   "execution_count": 120,
   "id": "opposite-circus",
   "metadata": {},
   "outputs": [
    {
     "name": "stdout",
     "output_type": "stream",
     "text": [
      "[ 0.1684959  -0.29357702  5.         ... -1.21075661 -0.65573187\n",
      "  0.32349466] [ 0.1684959  -0.29357702  5.         ... -1.21075661 -0.65573187\n",
      "  0.32349466]\n"
     ]
    }
   ],
   "source": [
    "ys = y\n",
    "\n",
    "ys[2] = 5\n",
    "\n",
    "print(y,ys)"
   ]
  },
  {
   "cell_type": "code",
   "execution_count": 121,
   "id": "frank-brazilian",
   "metadata": {},
   "outputs": [
    {
     "data": {
      "image/png": "[encoded data removed]",
      "text/plain": [
       "<Figure size 432x288 with 1 Axes>"
      ]
     },
     "metadata": {
      "needs_background": "light"
     },
     "output_type": "display_data"
    }
   ],
   "source": [
    "plt.plot(x,y)\n",
    "plt.plot(x,ys)\n",
    "plt.xlim(inicio_intervalo,5*np.pi + 0.5)\n",
    "plt.show()"
   ]
  },
  {
   "cell_type": "markdown",
   "id": "delayed-collection",
   "metadata": {},
   "source": [
    "Ejercicio #3"
   ]
  },
  {
   "cell_type": "code",
   "execution_count": 139,
   "id": "perceived-thing",
   "metadata": {},
   "outputs": [
    {
     "name": "stdout",
     "output_type": "stream",
     "text": [
      "[0.5        0.31127812]\n"
     ]
    }
   ],
   "source": [
    "# tu codigo aqui (~ 4 lineas de codigo)\n",
    "def Calcula_Entropia (px):\n",
    "    resp = -1*(px*np.log2(px))\n",
    "    return resp\n",
    "print (Calcula_Entropia([0.25,0.75]))"
   ]
  },
  {
   "cell_type": "markdown",
   "id": "drawn-particular",
   "metadata": {},
   "source": [
    "Ejercicio #4"
   ]
  },
  {
   "cell_type": "code",
   "execution_count": 127,
   "id": "usual-click",
   "metadata": {},
   "outputs": [
    {
     "name": "stdout",
     "output_type": "stream",
     "text": [
      "Lifetime value: [ 25 175 300 375 475 520 542 572]\n",
      "El valor del usuario a su sexto mes es : 520\n"
     ]
    }
   ],
   "source": [
    "def lifetime_value(ganancias_mensuales):\n",
    "    ## tu codigo aqui(~ 1 linea de codigo):\n",
    "    return np.cumsum(ganancias_mensuales)\n",
    "\n",
    "# Prueba:\n",
    "ganancias_usuario = np.array([25,150,125,75,100,45,22,30])\n",
    "lifetime_value_usuario = lifetime_value(ganancias_usuario)\n",
    "\n",
    "print(\"Lifetime value:\",lifetime_value_usuario)\n",
    "\n",
    "print(\"El valor del usuario a su sexto mes es :\",lifetime_value_usuario[5])"
   ]
  },
  {
   "cell_type": "markdown",
   "id": "blocked-organ",
   "metadata": {},
   "source": [
    "**Ejercicio #5**\n",
    "\n",
    "**Ejercicio** Usando argmax crear una función mode(x) para calcular la moda de un vector x , esta función debe devolver una tupla de 2 elementos de la forma:\n",
    "\n",
    "(valor,conteo)\n",
    "\n",
    "**tip** investigar y auxiliarse de otras funciones de numpy y np.argmax, no olvidar trabajar todo vectorizado, sin ciclos."
   ]
  },
  {
   "cell_type": "code",
   "execution_count": 128,
   "id": "encouraging-prescription",
   "metadata": {},
   "outputs": [],
   "source": [
    "def mode(x):\n",
    "    ## tu codigo aqui (~ 3 lineas de codigo):\n",
    "    unique,counts = np.unique(x, return_counts=True)\n",
    "    moda = {unique[np.argmax(counts)]:counts[np.argmax(counts)]} \n",
    "    return moda\n",
    "    "
   ]
  },
  {
   "cell_type": "code",
   "execution_count": 132,
   "id": "geographic-concord",
   "metadata": {},
   "outputs": [
    {
     "name": "stdout",
     "output_type": "stream",
     "text": [
      "{100: 4}\n"
     ]
    }
   ],
   "source": [
    "#prueba\n",
    "x = np.array([0, 100, 100, 80, 70, 80, 20, 10, 100, 100, 80, 70, 10, 30, 40])\n",
    "print(mode(x))"
   ]
  },
  {
   "cell_type": "markdown",
   "id": "fabulous-dryer",
   "metadata": {},
   "source": [
    "**Ejercicio #6**"
   ]
  },
  {
   "cell_type": "code",
   "execution_count": 133,
   "id": "varied-martial",
   "metadata": {},
   "outputs": [],
   "source": [
    "dist_a = np.array([0.3,0.5,0.2])"
   ]
  },
  {
   "cell_type": "markdown",
   "id": "indirect-entry",
   "metadata": {},
   "source": [
    "**Ejercicio** : crear una función para calcular la entropía  de una distribución de probabilidad representada como un vector.\n",
    "$$S = -\\sum_i^nP(x_{i})log_{2}P(x_{i})$$\n",
    "\n",
    "**Nota**: a diferencia del ejercicio anterior donde solo calculamos los términos de la entropía, en este caso  si calculamos el valor completo de la entropía, que como mencionamos es una medida de incerteza en una distribución de probabilidad.\n",
    "\n",
    "**recordatorio**: no usar ciclos solo operaciones vectorizadas."
   ]
  },
  {
   "cell_type": "code",
   "execution_count": 147,
   "id": "promotional-feedback",
   "metadata": {},
   "outputs": [],
   "source": [
    "# tu codigo aqui (~ 3 lineas de codigo)\n",
    "def Calcula_Entropia (px):\n",
    "    resp = sum(-1*(px*np.log2(px)))\n",
    "    return resp"
   ]
  },
  {
   "cell_type": "code",
   "execution_count": 148,
   "id": "demanding-canal",
   "metadata": {},
   "outputs": [
    {
     "name": "stdout",
     "output_type": "stream",
     "text": [
      "1.5\n"
     ]
    }
   ],
   "source": [
    "#prueba\n",
    "print (Calcula_Entropia([0.25,0.25,0.25]))"
   ]
  },
  {
   "cell_type": "markdown",
   "id": "acquired-transaction",
   "metadata": {},
   "source": [
    "**Ejercicio #7**"
   ]
  },
  {
   "cell_type": "markdown",
   "id": "supposed-demand",
   "metadata": {},
   "source": [
    "**Ejercicio**: En ML usamos la entropía cruzada como una forma de medir que tan bueno es un modelo de variables discretas a través de comparar la distribución de probabilidad que el modelo produce o predice, vs la distribución de probabilidad real dada por los datos de entrenamiento.\n",
    "\n",
    "Podemos ver el siguiente ejemplo que define la forma en que se calcula la entropía cruzada y nos muestra un caso específico:\n",
    "\n",
    "<img src=\"https://image.slidesharecdn.com/publishintroductiontodeeplearninginpythonandmatlab1-160502102437/95/introduction-to-deep-learning-in-python-and-matlab-54-638.jpg?cb=1462185644\">\n",
    "\n",
    "En este caso interpretamos así: El problema consiste en un modelo o algoritmo de ML que debe producir un vector de 3 elementos indicando la probabilidad de que ciertos datos X pertenezcan a una de 3 categorías.\n",
    "\n",
    "* El modelo de ML produce un vector que indica que estima un 70% de probabilidad de que se trate de la categoría 0, 20% de probabilidad de que se trate de la categoría 1 y 10% de que se trate de la categoría 2.\n",
    "* Los datos reales nos dicen que se trataba de un caso donde con total certeza se sabe que se trata de la categoría 0\n",
    "* La entropía cruzada(a calcular en el ejercicio) nos indica que tan buena es la estimación del modelo, una EC de 0 es un modelo perfecto(en este caso un modelo que predice 100% de prob para la clase 0)\n",
    "\n",
    "**Nota** \n",
    "* Aun que para calcular la entropía usamos logaritmos en base 2, en ML para calcular la entropía cruzada se usa logaritmo natural ya que con este se cumple el proposito **estimar que tanto se alejan las predicciones del modelo de ML de los datos reales** y es comunmente mas rápido de calcular en la computadora.\n",
    "* Ya que estamos trabajando con vectores que representan distribuciones de probabilidad , podemos toparnos con lo que se conoce como : **sparse vectors**(vectores donde la mayoría de elementos son 0), esto puede producir problemas ya que le logaritmo de 0 no esta definido, tu solución debe tomar en cuenta esto y evitar que devuelva \"nan\""
   ]
  },
  {
   "cell_type": "code",
   "execution_count": 184,
   "id": "desperate-pasta",
   "metadata": {},
   "outputs": [
    {
     "data": {
      "text/plain": [
       "0.35667494393873245"
      ]
     },
     "execution_count": 184,
     "metadata": {},
     "output_type": "execute_result"
    }
   ],
   "source": [
    "def cross_entropy(Y,Y_hat):\n",
    "    ##tu codigo aqui (~ 1 lineas de codigo)\n",
    "    Y_hat[np.isnan(Y_hat)] = 0\n",
    "    return sum(-1*(Y*np.log(Y_hat)))\n",
    "    \n",
    "\n",
    "y  = np.array([1.0,0,0])\n",
    "y_hat = np.array([0.7,0.2,0.1]) # <- resultado de algun modelo predictivo\n",
    "\n",
    "cross_entropy(y,y_hat)"
   ]
  },
  {
   "cell_type": "markdown",
   "id": "stunning-racing",
   "metadata": {},
   "source": [
    "**Ejercicio #8**"
   ]
  },
  {
   "cell_type": "code",
   "execution_count": 187,
   "id": "grand-prototype",
   "metadata": {},
   "outputs": [
    {
     "name": "stdout",
     "output_type": "stream",
     "text": [
      "El Modelo 1 Es Mejor\n"
     ]
    }
   ],
   "source": [
    "def magnitud(x):\n",
    "    ## tu codigo aqui (~ 1 linea de codigo)\n",
    "    return np.sqrt(np.sum(np.power(x,2))) # raiz cuadrada\n",
    "\n",
    "errores_modelo1 = np.array([1,2,1,2]) #\n",
    "errores_modelo2 = np.array([0,1,1,2]) #\n",
    "\n",
    "if magnitud(errores_modelo1) > magnitud(errores_modelo2): \n",
    "    print(\"El Modelo 1 Es Mejor\")\n",
    "else:\n",
    "    print(\"El Modelo 2 Es Mejor\")\n",
    "\n",
    "\n",
    "# elegir el mejor modelo con una condicional(if)"
   ]
  },
  {
   "cell_type": "code",
   "execution_count": 189,
   "id": "satellite-venice",
   "metadata": {},
   "outputs": [
    {
     "name": "stdout",
     "output_type": "stream",
     "text": [
      "1.0\n",
      "[0.         0.40824829 0.40824829 0.81649658]\n"
     ]
    }
   ],
   "source": [
    "def normalizar(x):\n",
    "    ## tu codigo aqui (~ 3 linea de codigo)\n",
    "    return x/magnitud(x)\n",
    "    \n",
    "\n",
    "print(magnitud(normalizar(errores_modelo1)))\n",
    "print(normalizar(errores_modelo2))"
   ]
  },
  {
   "cell_type": "markdown",
   "id": "about-liberal",
   "metadata": {},
   "source": [
    "**Ejercicio #9**"
   ]
  },
  {
   "cell_type": "code",
   "execution_count": null,
   "id": "guided-pointer",
   "metadata": {},
   "outputs": [],
   "source": []
  }
 ],
 "metadata": {
  "kernelspec": {
   "display_name": "Python 3",
   "language": "python",
   "name": "python3"
  },
  "language_info": {
   "codemirror_mode": {
    "name": "ipython",
    "version": 3
   },
   "file_extension": ".py",
   "mimetype": "text/x-python",
   "name": "python",
   "nbconvert_exporter": "python",
   "pygments_lexer": "ipython3",
   "version": "3.8.5"
  }
 },
 "nbformat": 4,
 "nbformat_minor": 5
}
