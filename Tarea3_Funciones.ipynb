{
 "cells": [
  {
   "cell_type": "markdown",
   "id": "czech-certificate",
   "metadata": {},
   "source": [
    "**Funciones en Python**\n",
    "\n",
    "Una función es un conjunto de lineas de codigo, que forman un bloque y tienen un proposito en común. \n",
    "Estas pueden devolver un valor, más de un valor o ninguno. \n",
    "De igual manera estas pueden tener parametros o argumentos o pueden no tenerlos. \n",
    "En Python Funciones también pueden ser sinonimo de métodos. \n",
    "Una de las ventajas de usar funciones es reutilizar código. "
   ]
  },
  {
   "cell_type": "markdown",
   "id": "gothic-glucose",
   "metadata": {},
   "source": [
    "La sintaxis básica de una función en Python es la siguiente: "
   ]
  },
  {
   "cell_type": "code",
   "execution_count": 1,
   "id": "twelve-parliament",
   "metadata": {},
   "outputs": [],
   "source": [
    "def Mifuncion():\n",
    "    print(\"HOLA MUNDO\")"
   ]
  },
  {
   "cell_type": "code",
   "execution_count": 2,
   "id": "artificial-interim",
   "metadata": {},
   "outputs": [
    {
     "name": "stdout",
     "output_type": "stream",
     "text": [
      "HOLA MUNDO\n"
     ]
    }
   ],
   "source": [
    "#Llamar a una función\n",
    "Mifuncion()"
   ]
  },
  {
   "cell_type": "markdown",
   "id": "stone-richmond",
   "metadata": {},
   "source": [
    "**Parametros Posicionales**\n",
    "\n",
    "Se refiere a que en python, cuando llamamos a una función, los valores pasados como parametros se asignarán por defecto en la\n",
    "mismo posición en el mismo orden en que fueron definidos. \n",
    "Por ejemplo, la siguientes función: "
   ]
  },
  {
   "cell_type": "code",
   "execution_count": 5,
   "id": "orange-iraqi",
   "metadata": {},
   "outputs": [],
   "source": [
    "def suma(num1,num2):\n",
    "    print(num1+num2)\n",
    "    "
   ]
  },
  {
   "cell_type": "markdown",
   "id": "rough-poultry",
   "metadata": {},
   "source": [
    "Cuando se llama a la función el primer parametro que se coloca en la función se almacena en la varibale \"num1\" y el segundo parametro se alamcena en la variable \"num2\". Es decir, se asignan los valores según la posición o el orden en que fueron definidos. "
   ]
  },
  {
   "cell_type": "code",
   "execution_count": 7,
   "id": "specified-console",
   "metadata": {},
   "outputs": [
    {
     "name": "stdout",
     "output_type": "stream",
     "text": [
      "15\n"
     ]
    }
   ],
   "source": [
    "suma(10,5)"
   ]
  },
  {
   "cell_type": "markdown",
   "id": "induced-laugh",
   "metadata": {},
   "source": [
    "**Parametros Nombrados**\n",
    "\n",
    "Por otro lado, los parametros de una función pueden nombrarse al ser llamada la función. Esto para especificar de forma más precisa que valor se quiere asignar a cada variable o parametro de la función. En el siguiente ejemplo se muestra como se puede llamar a la misma función, pero pasando primero el valor del parametro 1 y luego el valor del parametro 2. "
   ]
  },
  {
   "cell_type": "code",
   "execution_count": 9,
   "id": "photographic-macro",
   "metadata": {},
   "outputs": [
    {
     "name": "stdout",
     "output_type": "stream",
     "text": [
      "15\n"
     ]
    }
   ],
   "source": [
    "suma(num2=5,num1=10)"
   ]
  },
  {
   "cell_type": "markdown",
   "id": "severe-triple",
   "metadata": {},
   "source": [
    "**Retorno de Multiples valores**\n",
    "\n",
    "Python es un lenguaje muy flexible y a diferencia de la mayoría de lenguajes permite devolver multiples valores dentro de la instrucción return de las funciones que definimos. En el siguiente ejemplo se muestra como python es capaz de devolver multiples valores en una función. "
   ]
  },
  {
   "cell_type": "code",
   "execution_count": 12,
   "id": "antique-shakespeare",
   "metadata": {},
   "outputs": [],
   "source": [
    "def OperacionesBasicas(num1, num2):\n",
    "  suma = num1+num2\n",
    "  resta = num1-num2\n",
    "  multiplicacion = num1*num2\n",
    "  division = num1/num2\n",
    "  return suma,resta,multiplicacion,division"
   ]
  },
  {
   "cell_type": "code",
   "execution_count": 16,
   "id": "absolute-dealer",
   "metadata": {},
   "outputs": [
    {
     "data": {
      "text/plain": [
       "(12, 8, 20, 5.0)"
      ]
     },
     "execution_count": 16,
     "metadata": {},
     "output_type": "execute_result"
    }
   ],
   "source": [
    " OperacionesBasicas(10,2)"
   ]
  },
  {
   "cell_type": "markdown",
   "id": "authorized-pharmacology",
   "metadata": {},
   "source": [
    "Algo que vale la pena mencionar es que en realidad lo que devulve la función anterior es un objeto de tipo tupla, que contiene multiples valores. Como se demuestra a continuación: "
   ]
  },
  {
   "cell_type": "code",
   "execution_count": 17,
   "id": "prerequisite-reception",
   "metadata": {},
   "outputs": [
    {
     "data": {
      "text/plain": [
       "tuple"
      ]
     },
     "execution_count": 17,
     "metadata": {},
     "output_type": "execute_result"
    }
   ],
   "source": [
    "Resultado = OperacionesBasicas(10,2)\n",
    "type(Resultado)"
   ]
  },
  {
   "cell_type": "markdown",
   "id": "familiar-partnership",
   "metadata": {},
   "source": [
    "**Funciones como objetos y como parametros de otras funciones**\n",
    "\n",
    "Todo en python es un objeto, incluso las funciones. En ese sentido las funciones pueden ser tratadas como objetos. En el siguiente ejemplo se muestra como se utiliza la función cuadrado como si fuera un objeto, dentro de la función operar: "
   ]
  },
  {
   "cell_type": "code",
   "execution_count": 25,
   "id": "published-perspective",
   "metadata": {},
   "outputs": [],
   "source": [
    "def cuadrado(x):\n",
    "    return x ** 2\n",
    "\n",
    "def operar(func, *args):\n",
    "    for n in args:\n",
    "        print(func(n))"
   ]
  },
  {
   "cell_type": "code",
   "execution_count": 26,
   "id": "expanded-rapid",
   "metadata": {},
   "outputs": [
    {
     "name": "stdout",
     "output_type": "stream",
     "text": [
      "4\n",
      "9\n",
      "25\n"
     ]
    }
   ],
   "source": [
    "operar(cuadrado, 2, 3, 5)"
   ]
  },
  {
   "cell_type": "markdown",
   "id": "powerful-melissa",
   "metadata": {},
   "source": [
    "**Funciones Anonimas o Lambda**\n",
    "\n",
    "Se llaman funciones anónimas ya que no es necesario especificar el nombre de la función. \n",
    "Una limitación que presentan este tipo de funciones, es que se pueden especificar con una única línea de código y no con un bloque de varias lineas de código como sucede con la funciones normales. \n",
    "En resumen, las funciones anónimas son muy utilizadas para funciones sencillas y no para procesos complejos. \n",
    "Para declarar una función anónima se utiliza la expresión lambda, como se muestra a continuación: "
   ]
  },
  {
   "cell_type": "code",
   "execution_count": 31,
   "id": "distributed-organizer",
   "metadata": {},
   "outputs": [
    {
     "data": {
      "text/plain": [
       "4"
      ]
     },
     "execution_count": 31,
     "metadata": {},
     "output_type": "execute_result"
    }
   ],
   "source": [
    "cuadrado = lambda x: x** 2\n",
    "cuadrado(2)"
   ]
  },
  {
   "cell_type": "markdown",
   "id": "sublime-chase",
   "metadata": {},
   "source": [
    "La función anónima definida anteriormente, equivale a la siguiente función definida con la nomenclatura def"
   ]
  },
  {
   "cell_type": "code",
   "execution_count": 33,
   "id": "iraqi-fossil",
   "metadata": {},
   "outputs": [
    {
     "data": {
      "text/plain": [
       "4"
      ]
     },
     "execution_count": 33,
     "metadata": {},
     "output_type": "execute_result"
    }
   ],
   "source": [
    "def cuadrado(x):\n",
    "    return x ** 2\n",
    "cuadrado(2)"
   ]
  }
 ],
 "metadata": {
  "kernelspec": {
   "display_name": "Python 3",
   "language": "python",
   "name": "python3"
  },
  "language_info": {
   "codemirror_mode": {
    "name": "ipython",
    "version": 3
   },
   "file_extension": ".py",
   "mimetype": "text/x-python",
   "name": "python",
   "nbconvert_exporter": "python",
   "pygments_lexer": "ipython3",
   "version": "3.8.5"
  }
 },
 "nbformat": 4,
 "nbformat_minor": 5
}
